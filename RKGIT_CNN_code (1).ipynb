{
  "nbformat": 4,
  "nbformat_minor": 0,
  "metadata": {
    "colab": {
      "name": "RKGIT_CNN_code.ipynb",
      "provenance": [],
      "toc_visible": true
    },
    "kernelspec": {
      "name": "python3",
      "display_name": "Python 3"
    },
    "accelerator": "GPU"
  },
  "cells": [
    {
      "cell_type": "code",
      "metadata": {
        "id": "waUI64A6e6WW",
        "colab_type": "code",
        "colab": {
          "base_uri": "https://localhost:8080/",
          "height": 224
        },
        "outputId": "1b74a897-783f-417a-886b-7654f71d8764"
      },
      "source": [
        "!wget https://raw.githubusercontent.com/anshupandey/Machine_Learning_Training/master/datasets/image_data.zip"
      ],
      "execution_count": 1,
      "outputs": [
        {
          "output_type": "stream",
          "text": [
            "--2020-06-25 07:58:40--  https://raw.githubusercontent.com/anshupandey/Machine_Learning_Training/master/datasets/image_data.zip\n",
            "Resolving raw.githubusercontent.com (raw.githubusercontent.com)... 151.101.0.133, 151.101.64.133, 151.101.128.133, ...\n",
            "Connecting to raw.githubusercontent.com (raw.githubusercontent.com)|151.101.0.133|:443... connected.\n",
            "HTTP request sent, awaiting response... 200 OK\n",
            "Length: 20160500 (19M) [application/zip]\n",
            "Saving to: ‘image_data.zip’\n",
            "\n",
            "image_data.zip      100%[===================>]  19.23M  29.1MB/s    in 0.7s    \n",
            "\n",
            "2020-06-25 07:58:42 (29.1 MB/s) - ‘image_data.zip’ saved [20160500/20160500]\n",
            "\n"
          ],
          "name": "stdout"
        }
      ]
    },
    {
      "cell_type": "code",
      "metadata": {
        "id": "v14SsP8YfDDJ",
        "colab_type": "code",
        "colab": {
          "base_uri": "https://localhost:8080/",
          "height": 1000
        },
        "outputId": "9d3c448a-d967-4a15-a87b-2df3275e2c1c"
      },
      "source": [
        "!unzip image_data.zip"
      ],
      "execution_count": 2,
      "outputs": [
        {
          "output_type": "stream",
          "text": [
            "Archive:  image_data.zip\n",
            "  inflating: image_data/car3.png     \n",
            "  inflating: image_data/cat.jpeg     \n",
            "  inflating: image_data/cat2.jpg     \n",
            "   creating: image_data/data/\n",
            "   creating: image_data/data/dogs/\n",
            "  inflating: image_data/data/dogs/dog.1.jpg  \n",
            "  inflating: image_data/data/dogs/dog.10.jpg  \n",
            "  inflating: image_data/data/dogs/dog.100.jpg  \n",
            "  inflating: image_data/data/dogs/dog.101.jpg  \n",
            "  inflating: image_data/data/dogs/dog.102.jpg  \n",
            "  inflating: image_data/data/dogs/dog.103.jpg  \n",
            "  inflating: image_data/data/dogs/dog.104.jpg  \n",
            "  inflating: image_data/data/dogs/dog.105.jpg  \n",
            "  inflating: image_data/data/dogs/dog.106.jpg  \n",
            "  inflating: image_data/data/dogs/dog.107.jpg  \n",
            "  inflating: image_data/data/dogs/dog.108.jpg  \n",
            "  inflating: image_data/data/dogs/dog.109.jpg  \n",
            "  inflating: image_data/data/dogs/dog.11.jpg  \n",
            "  inflating: image_data/data/dogs/dog.110.jpg  \n",
            "  inflating: image_data/data/dogs/dog.111.jpg  \n",
            "  inflating: image_data/data/dogs/dog.112.jpg  \n",
            "  inflating: image_data/data/dogs/dog.113.jpg  \n",
            "  inflating: image_data/data/dogs/dog.114.jpg  \n",
            "  inflating: image_data/data/dogs/dog.115.jpg  \n",
            "  inflating: image_data/data/dogs/dog.116.jpg  \n",
            "  inflating: image_data/data/dogs/dog.117.jpg  \n",
            "  inflating: image_data/data/dogs/dog.118.jpg  \n",
            "  inflating: image_data/data/dogs/dog.119.jpg  \n",
            "  inflating: image_data/data/dogs/dog.12.jpg  \n",
            "  inflating: image_data/data/dogs/dog.120.jpg  \n",
            "  inflating: image_data/data/dogs/dog.121.jpg  \n",
            "  inflating: image_data/data/dogs/dog.122.jpg  \n",
            "  inflating: image_data/data/dogs/dog.123.jpg  \n",
            "  inflating: image_data/data/dogs/dog.124.jpg  \n",
            "  inflating: image_data/data/dogs/dog.125.jpg  \n",
            "  inflating: image_data/data/dogs/dog.126.jpg  \n",
            "  inflating: image_data/data/dogs/dog.127.jpg  \n",
            "  inflating: image_data/data/dogs/dog.128.jpg  \n",
            "  inflating: image_data/data/dogs/dog.129.jpg  \n",
            "  inflating: image_data/data/dogs/dog.13.jpg  \n",
            "  inflating: image_data/data/dogs/dog.130.jpg  \n",
            "  inflating: image_data/data/dogs/dog.131.jpg  \n",
            "  inflating: image_data/data/dogs/dog.132.jpg  \n",
            "  inflating: image_data/data/dogs/dog.133.jpg  \n",
            "  inflating: image_data/data/dogs/dog.134.jpg  \n",
            "  inflating: image_data/data/dogs/dog.135.jpg  \n",
            "  inflating: image_data/data/dogs/dog.136.jpg  \n",
            "  inflating: image_data/data/dogs/dog.137.jpg  \n",
            "  inflating: image_data/data/dogs/dog.138.jpg  \n",
            "  inflating: image_data/data/dogs/dog.139.jpg  \n",
            "  inflating: image_data/data/dogs/dog.14.jpg  \n",
            "  inflating: image_data/data/dogs/dog.140.jpg  \n",
            "  inflating: image_data/data/dogs/dog.141.jpg  \n",
            "  inflating: image_data/data/dogs/dog.142.jpg  \n",
            "  inflating: image_data/data/dogs/dog.143.jpg  \n",
            "  inflating: image_data/data/dogs/dog.144.jpg  \n",
            "  inflating: image_data/data/dogs/dog.145.jpg  \n",
            "  inflating: image_data/data/dogs/dog.146.jpg  \n",
            "  inflating: image_data/data/dogs/dog.147.jpg  \n",
            "  inflating: image_data/data/dogs/dog.148.jpg  \n",
            "  inflating: image_data/data/dogs/dog.149.jpg  \n",
            "  inflating: image_data/data/dogs/dog.15.jpg  \n",
            "  inflating: image_data/data/dogs/dog.150.jpg  \n",
            "  inflating: image_data/data/dogs/dog.151.jpg  \n",
            "  inflating: image_data/data/dogs/dog.152.jpg  \n",
            "  inflating: image_data/data/dogs/dog.153.jpg  \n",
            "  inflating: image_data/data/dogs/dog.154.jpg  \n",
            "  inflating: image_data/data/dogs/dog.155.jpg  \n",
            "  inflating: image_data/data/dogs/dog.156.jpg  \n",
            "  inflating: image_data/data/dogs/dog.157.jpg  \n",
            "  inflating: image_data/data/dogs/dog.158.jpg  \n",
            "  inflating: image_data/data/dogs/dog.159.jpg  \n",
            "  inflating: image_data/data/dogs/dog.16.jpg  \n",
            "  inflating: image_data/data/dogs/dog.160.jpg  \n",
            "  inflating: image_data/data/dogs/dog.161.jpg  \n",
            "  inflating: image_data/data/dogs/dog.162.jpg  \n",
            "  inflating: image_data/data/dogs/dog.163.jpg  \n",
            "  inflating: image_data/data/dogs/dog.164.jpg  \n",
            "  inflating: image_data/data/dogs/dog.165.jpg  \n",
            "  inflating: image_data/data/dogs/dog.166.jpg  \n",
            "  inflating: image_data/data/dogs/dog.167.jpg  \n",
            "  inflating: image_data/data/dogs/dog.168.jpg  \n",
            "  inflating: image_data/data/dogs/dog.169.jpg  \n",
            "  inflating: image_data/data/dogs/dog.17.jpg  \n",
            "  inflating: image_data/data/dogs/dog.170.jpg  \n",
            "  inflating: image_data/data/dogs/dog.171.jpg  \n",
            "  inflating: image_data/data/dogs/dog.172.jpg  \n",
            "  inflating: image_data/data/dogs/dog.173.jpg  \n",
            "  inflating: image_data/data/dogs/dog.174.jpg  \n",
            "  inflating: image_data/data/dogs/dog.175.jpg  \n",
            "  inflating: image_data/data/dogs/dog.176.jpg  \n",
            "  inflating: image_data/data/dogs/dog.177.jpg  \n",
            "  inflating: image_data/data/dogs/dog.178.jpg  \n",
            "  inflating: image_data/data/dogs/dog.179.jpg  \n",
            "  inflating: image_data/data/dogs/dog.18.jpg  \n",
            "  inflating: image_data/data/dogs/dog.180.jpg  \n",
            "  inflating: image_data/data/dogs/dog.181.jpg  \n",
            "  inflating: image_data/data/dogs/dog.182.jpg  \n",
            "  inflating: image_data/data/dogs/dog.183.jpg  \n",
            "  inflating: image_data/data/dogs/dog.184.jpg  \n",
            "  inflating: image_data/data/dogs/dog.185.jpg  \n",
            "  inflating: image_data/data/dogs/dog.186.jpg  \n",
            "  inflating: image_data/data/dogs/dog.187.jpg  \n",
            "  inflating: image_data/data/dogs/dog.188.jpg  \n",
            "  inflating: image_data/data/dogs/dog.189.jpg  \n",
            "  inflating: image_data/data/dogs/dog.19.jpg  \n",
            "  inflating: image_data/data/dogs/dog.190.jpg  \n",
            "  inflating: image_data/data/dogs/dog.191.jpg  \n",
            "  inflating: image_data/data/dogs/dog.192.jpg  \n",
            "  inflating: image_data/data/dogs/dog.193.jpg  \n",
            "  inflating: image_data/data/dogs/dog.194.jpg  \n",
            "  inflating: image_data/data/dogs/dog.195.jpg  \n",
            "  inflating: image_data/data/dogs/dog.196.jpg  \n",
            "  inflating: image_data/data/dogs/dog.197.jpg  \n",
            "  inflating: image_data/data/dogs/dog.198.jpg  \n",
            "  inflating: image_data/data/dogs/dog.199.jpg  \n",
            "  inflating: image_data/data/dogs/dog.2.jpg  \n",
            "  inflating: image_data/data/dogs/dog.20.jpg  \n",
            "  inflating: image_data/data/dogs/dog.200.jpg  \n",
            "  inflating: image_data/data/dogs/dog.201.jpg  \n",
            "  inflating: image_data/data/dogs/dog.202.jpg  \n",
            "  inflating: image_data/data/dogs/dog.21.jpg  \n",
            "  inflating: image_data/data/dogs/dog.22.jpg  \n",
            "  inflating: image_data/data/dogs/dog.23.jpg  \n",
            "  inflating: image_data/data/dogs/dog.24.jpg  \n",
            "  inflating: image_data/data/dogs/dog.25.jpg  \n",
            "  inflating: image_data/data/dogs/dog.26.jpg  \n",
            "  inflating: image_data/data/dogs/dog.27.jpg  \n",
            "  inflating: image_data/data/dogs/dog.28.jpg  \n",
            "  inflating: image_data/data/dogs/dog.29.jpg  \n",
            "  inflating: image_data/data/dogs/dog.3.jpg  \n",
            "  inflating: image_data/data/dogs/dog.30.jpg  \n",
            "  inflating: image_data/data/dogs/dog.31.jpg  \n",
            "  inflating: image_data/data/dogs/dog.32.jpg  \n",
            "  inflating: image_data/data/dogs/dog.33.jpg  \n",
            "  inflating: image_data/data/dogs/dog.34.jpg  \n",
            "  inflating: image_data/data/dogs/dog.35.jpg  \n",
            "  inflating: image_data/data/dogs/dog.36.jpg  \n",
            "  inflating: image_data/data/dogs/dog.37.jpg  \n",
            "  inflating: image_data/data/dogs/dog.38.jpg  \n",
            "  inflating: image_data/data/dogs/dog.39.jpg  \n",
            "  inflating: image_data/data/dogs/dog.4.jpg  \n",
            "  inflating: image_data/data/dogs/dog.40.jpg  \n",
            "  inflating: image_data/data/dogs/dog.41.jpg  \n",
            "  inflating: image_data/data/dogs/dog.42.jpg  \n",
            "  inflating: image_data/data/dogs/dog.43.jpg  \n",
            "  inflating: image_data/data/dogs/dog.44.jpg  \n",
            "  inflating: image_data/data/dogs/dog.45.jpg  \n",
            "  inflating: image_data/data/dogs/dog.46.jpg  \n",
            "  inflating: image_data/data/dogs/dog.47.jpg  \n",
            "  inflating: image_data/data/dogs/dog.48.jpg  \n",
            "  inflating: image_data/data/dogs/dog.49.jpg  \n",
            "  inflating: image_data/data/dogs/dog.5.jpg  \n",
            "  inflating: image_data/data/dogs/dog.50.jpg  \n",
            "  inflating: image_data/data/dogs/dog.51.jpg  \n",
            "  inflating: image_data/data/dogs/dog.52.jpg  \n",
            "  inflating: image_data/data/dogs/dog.53.jpg  \n",
            "  inflating: image_data/data/dogs/dog.54.jpg  \n",
            "  inflating: image_data/data/dogs/dog.55.jpg  \n",
            "  inflating: image_data/data/dogs/dog.56.jpg  \n",
            "  inflating: image_data/data/dogs/dog.57.jpg  \n",
            "  inflating: image_data/data/dogs/dog.58.jpg  \n",
            "  inflating: image_data/data/dogs/dog.59.jpg  \n",
            "  inflating: image_data/data/dogs/dog.6.jpg  \n",
            "  inflating: image_data/data/dogs/dog.60.jpg  \n",
            "  inflating: image_data/data/dogs/dog.61.jpg  \n",
            "  inflating: image_data/data/dogs/dog.62.jpg  \n",
            "  inflating: image_data/data/dogs/dog.63.jpg  \n",
            "  inflating: image_data/data/dogs/dog.64.jpg  \n",
            "  inflating: image_data/data/dogs/dog.65.jpg  \n",
            "  inflating: image_data/data/dogs/dog.66.jpg  \n",
            "  inflating: image_data/data/dogs/dog.67.jpg  \n",
            "  inflating: image_data/data/dogs/dog.68.jpg  \n",
            "  inflating: image_data/data/dogs/dog.69.jpg  \n",
            "  inflating: image_data/data/dogs/dog.7.jpg  \n",
            "  inflating: image_data/data/dogs/dog.70.jpg  \n",
            "  inflating: image_data/data/dogs/dog.71.jpg  \n",
            "  inflating: image_data/data/dogs/dog.72.jpg  \n",
            "  inflating: image_data/data/dogs/dog.73.jpg  \n",
            "  inflating: image_data/data/dogs/dog.74.jpg  \n",
            "  inflating: image_data/data/dogs/dog.75.jpg  \n",
            "  inflating: image_data/data/dogs/dog.76.jpg  \n",
            "  inflating: image_data/data/dogs/dog.77.jpg  \n",
            "  inflating: image_data/data/dogs/dog.78.jpg  \n",
            "  inflating: image_data/data/dogs/dog.79.jpg  \n",
            "  inflating: image_data/data/dogs/dog.8.jpg  \n",
            "  inflating: image_data/data/dogs/dog.80.jpg  \n",
            "  inflating: image_data/data/dogs/dog.81.jpg  \n",
            "  inflating: image_data/data/dogs/dog.82.jpg  \n",
            "  inflating: image_data/data/dogs/dog.83.jpg  \n",
            "  inflating: image_data/data/dogs/dog.84.jpg  \n",
            "  inflating: image_data/data/dogs/dog.85.jpg  \n",
            "  inflating: image_data/data/dogs/dog.86.jpg  \n",
            "  inflating: image_data/data/dogs/dog.87.jpg  \n",
            "  inflating: image_data/data/dogs/dog.88.jpg  \n",
            "  inflating: image_data/data/dogs/dog.89.jpg  \n",
            "  inflating: image_data/data/dogs/dog.9.jpg  \n",
            "  inflating: image_data/data/dogs/dog.90.jpg  \n",
            "  inflating: image_data/data/dogs/dog.91.jpg  \n",
            "  inflating: image_data/data/dogs/dog.92.jpg  \n",
            "  inflating: image_data/data/dogs/dog.93.jpg  \n",
            "  inflating: image_data/data/dogs/dog.94.jpg  \n",
            "  inflating: image_data/data/dogs/dog.95.jpg  \n",
            "  inflating: image_data/data/dogs/dog.96.jpg  \n",
            "  inflating: image_data/data/dogs/dog.97.jpg  \n",
            "  inflating: image_data/data/dogs/dog.98.jpg  \n",
            "  inflating: image_data/data/dogs/dog.99.jpg  \n",
            "   creating: image_data/data/horses/\n",
            "  inflating: image_data/data/horses/horse-1.jpg  \n",
            "  inflating: image_data/data/horses/horse-10.jpg  \n",
            "  inflating: image_data/data/horses/horse-100.jpg  \n",
            "  inflating: image_data/data/horses/horse-101.jpg  \n",
            "  inflating: image_data/data/horses/horse-102.jpg  \n",
            "  inflating: image_data/data/horses/horse-103.jpg  \n",
            "  inflating: image_data/data/horses/horse-104.jpg  \n",
            "  inflating: image_data/data/horses/horse-105.jpg  \n",
            "  inflating: image_data/data/horses/horse-106.jpg  \n",
            "  inflating: image_data/data/horses/horse-107.jpg  \n",
            "  inflating: image_data/data/horses/horse-108.jpg  \n",
            "  inflating: image_data/data/horses/horse-109.jpg  \n",
            "  inflating: image_data/data/horses/horse-11.jpg  \n",
            "  inflating: image_data/data/horses/horse-110.jpg  \n",
            "  inflating: image_data/data/horses/horse-111.jpg  \n",
            "  inflating: image_data/data/horses/horse-112.jpg  \n",
            "  inflating: image_data/data/horses/horse-113.jpg  \n",
            "  inflating: image_data/data/horses/horse-114.jpg  \n",
            "  inflating: image_data/data/horses/horse-115.jpg  \n",
            "  inflating: image_data/data/horses/horse-116.jpg  \n",
            "  inflating: image_data/data/horses/horse-117.jpg  \n",
            "  inflating: image_data/data/horses/horse-118.jpg  \n",
            "  inflating: image_data/data/horses/horse-119.jpg  \n",
            "  inflating: image_data/data/horses/horse-12.jpg  \n",
            "  inflating: image_data/data/horses/horse-120.jpg  \n",
            "  inflating: image_data/data/horses/horse-121.jpg  \n",
            "  inflating: image_data/data/horses/horse-122.jpg  \n",
            "  inflating: image_data/data/horses/horse-123.jpg  \n",
            "  inflating: image_data/data/horses/horse-124.jpg  \n",
            "  inflating: image_data/data/horses/horse-125.jpg  \n",
            "  inflating: image_data/data/horses/horse-126.jpg  \n",
            "  inflating: image_data/data/horses/horse-127.jpg  \n",
            "  inflating: image_data/data/horses/horse-128.jpg  \n",
            "  inflating: image_data/data/horses/horse-129.jpg  \n",
            "  inflating: image_data/data/horses/horse-13.jpg  \n",
            "  inflating: image_data/data/horses/horse-130.jpg  \n",
            "  inflating: image_data/data/horses/horse-131.jpg  \n",
            "  inflating: image_data/data/horses/horse-132.jpg  \n",
            "  inflating: image_data/data/horses/horse-133.jpg  \n",
            "  inflating: image_data/data/horses/horse-134.jpg  \n",
            "  inflating: image_data/data/horses/horse-135.jpg  \n",
            "  inflating: image_data/data/horses/horse-136.jpg  \n",
            "  inflating: image_data/data/horses/horse-137.jpg  \n",
            "  inflating: image_data/data/horses/horse-138.jpg  \n",
            "  inflating: image_data/data/horses/horse-139.jpg  \n",
            "  inflating: image_data/data/horses/horse-14.jpg  \n",
            "  inflating: image_data/data/horses/horse-140.jpg  \n",
            "  inflating: image_data/data/horses/horse-141.jpg  \n",
            "  inflating: image_data/data/horses/horse-142.jpg  \n",
            "  inflating: image_data/data/horses/horse-143.jpg  \n",
            "  inflating: image_data/data/horses/horse-144.jpg  \n",
            "  inflating: image_data/data/horses/horse-145.jpg  \n",
            "  inflating: image_data/data/horses/horse-146.jpg  \n",
            "  inflating: image_data/data/horses/horse-147.jpg  \n",
            "  inflating: image_data/data/horses/horse-148.jpg  \n",
            "  inflating: image_data/data/horses/horse-149.jpg  \n",
            "  inflating: image_data/data/horses/horse-15.jpg  \n",
            "  inflating: image_data/data/horses/horse-150.jpg  \n",
            "  inflating: image_data/data/horses/horse-151.jpg  \n",
            "  inflating: image_data/data/horses/horse-152.jpg  \n",
            "  inflating: image_data/data/horses/horse-153.jpg  \n",
            "  inflating: image_data/data/horses/horse-154.jpg  \n",
            "  inflating: image_data/data/horses/horse-155.jpg  \n",
            "  inflating: image_data/data/horses/horse-156.jpg  \n",
            "  inflating: image_data/data/horses/horse-157.jpg  \n",
            "  inflating: image_data/data/horses/horse-158.jpg  \n",
            "  inflating: image_data/data/horses/horse-159.jpg  \n",
            "  inflating: image_data/data/horses/horse-16.jpg  \n",
            "  inflating: image_data/data/horses/horse-160.jpg  \n",
            "  inflating: image_data/data/horses/horse-161.jpg  \n",
            "  inflating: image_data/data/horses/horse-162.jpg  \n",
            "  inflating: image_data/data/horses/horse-163.jpg  \n",
            "  inflating: image_data/data/horses/horse-164.jpg  \n",
            "  inflating: image_data/data/horses/horse-165.jpg  \n",
            "  inflating: image_data/data/horses/horse-166.jpg  \n",
            "  inflating: image_data/data/horses/horse-167.jpg  \n",
            "  inflating: image_data/data/horses/horse-168.jpg  \n",
            "  inflating: image_data/data/horses/horse-169.jpg  \n",
            "  inflating: image_data/data/horses/horse-17.jpg  \n",
            "  inflating: image_data/data/horses/horse-170.jpg  \n",
            "  inflating: image_data/data/horses/horse-171.jpg  \n",
            "  inflating: image_data/data/horses/horse-172.jpg  \n",
            "  inflating: image_data/data/horses/horse-173.jpg  \n",
            "  inflating: image_data/data/horses/horse-174.jpg  \n",
            "  inflating: image_data/data/horses/horse-175.jpg  \n",
            "  inflating: image_data/data/horses/horse-176.jpg  \n",
            "  inflating: image_data/data/horses/horse-177.jpg  \n",
            "  inflating: image_data/data/horses/horse-178.jpg  \n",
            "  inflating: image_data/data/horses/horse-179.jpg  \n",
            "  inflating: image_data/data/horses/horse-18.jpg  \n",
            "  inflating: image_data/data/horses/horse-180.jpg  \n",
            "  inflating: image_data/data/horses/horse-181.jpg  \n",
            "  inflating: image_data/data/horses/horse-182.jpg  \n",
            "  inflating: image_data/data/horses/horse-183.jpg  \n",
            "  inflating: image_data/data/horses/horse-184.jpg  \n",
            "  inflating: image_data/data/horses/horse-185.jpg  \n",
            "  inflating: image_data/data/horses/horse-186.jpg  \n",
            "  inflating: image_data/data/horses/horse-187.jpg  \n",
            "  inflating: image_data/data/horses/horse-188.jpg  \n",
            "  inflating: image_data/data/horses/horse-189.jpg  \n",
            "  inflating: image_data/data/horses/horse-19.jpg  \n",
            "  inflating: image_data/data/horses/horse-190.jpg  \n",
            "  inflating: image_data/data/horses/horse-191.jpg  \n",
            "  inflating: image_data/data/horses/horse-192.jpg  \n",
            "  inflating: image_data/data/horses/horse-193.jpg  \n",
            "  inflating: image_data/data/horses/horse-194.jpg  \n",
            "  inflating: image_data/data/horses/horse-195.jpg  \n",
            "  inflating: image_data/data/horses/horse-196.jpg  \n",
            "  inflating: image_data/data/horses/horse-197.jpg  \n",
            "  inflating: image_data/data/horses/horse-198.jpg  \n",
            "  inflating: image_data/data/horses/horse-199.jpg  \n",
            "  inflating: image_data/data/horses/horse-2.jpg  \n",
            "  inflating: image_data/data/horses/horse-20.jpg  \n",
            "  inflating: image_data/data/horses/horse-200.jpg  \n",
            "  inflating: image_data/data/horses/horse-201.jpg  \n",
            "  inflating: image_data/data/horses/horse-202.jpg  \n",
            "  inflating: image_data/data/horses/horse-21.jpg  \n",
            "  inflating: image_data/data/horses/horse-22.jpg  \n",
            "  inflating: image_data/data/horses/horse-23.jpg  \n",
            "  inflating: image_data/data/horses/horse-24.jpg  \n",
            "  inflating: image_data/data/horses/horse-25.jpg  \n",
            "  inflating: image_data/data/horses/horse-26.jpg  \n",
            "  inflating: image_data/data/horses/horse-27.jpg  \n",
            "  inflating: image_data/data/horses/horse-28.jpg  \n",
            "  inflating: image_data/data/horses/horse-29.jpg  \n",
            "  inflating: image_data/data/horses/horse-3.jpg  \n",
            "  inflating: image_data/data/horses/horse-30.jpg  \n",
            "  inflating: image_data/data/horses/horse-31.jpg  \n",
            "  inflating: image_data/data/horses/horse-32.jpg  \n",
            "  inflating: image_data/data/horses/horse-33.jpg  \n",
            "  inflating: image_data/data/horses/horse-34.jpg  \n",
            "  inflating: image_data/data/horses/horse-35.jpg  \n",
            "  inflating: image_data/data/horses/horse-36.jpg  \n",
            "  inflating: image_data/data/horses/horse-37.jpg  \n",
            "  inflating: image_data/data/horses/horse-38.jpg  \n",
            "  inflating: image_data/data/horses/horse-39.jpg  \n",
            "  inflating: image_data/data/horses/horse-4.jpg  \n",
            "  inflating: image_data/data/horses/horse-40.jpg  \n",
            "  inflating: image_data/data/horses/horse-41.jpg  \n",
            "  inflating: image_data/data/horses/horse-42.jpg  \n",
            "  inflating: image_data/data/horses/horse-43.jpg  \n",
            "  inflating: image_data/data/horses/horse-44.jpg  \n",
            "  inflating: image_data/data/horses/horse-45.jpg  \n",
            "  inflating: image_data/data/horses/horse-46.jpg  \n",
            "  inflating: image_data/data/horses/horse-47.jpg  \n",
            "  inflating: image_data/data/horses/horse-48.jpg  \n",
            "  inflating: image_data/data/horses/horse-49.jpg  \n",
            "  inflating: image_data/data/horses/horse-5.jpg  \n",
            "  inflating: image_data/data/horses/horse-50.jpg  \n",
            "  inflating: image_data/data/horses/horse-51.jpg  \n",
            "  inflating: image_data/data/horses/horse-52.jpg  \n",
            "  inflating: image_data/data/horses/horse-53.jpg  \n",
            "  inflating: image_data/data/horses/horse-54.jpg  \n",
            "  inflating: image_data/data/horses/horse-55.jpg  \n",
            "  inflating: image_data/data/horses/horse-56.jpg  \n",
            "  inflating: image_data/data/horses/horse-57.jpg  \n",
            "  inflating: image_data/data/horses/horse-58.jpg  \n",
            "  inflating: image_data/data/horses/horse-59.jpg  \n",
            "  inflating: image_data/data/horses/horse-6.jpg  \n",
            "  inflating: image_data/data/horses/horse-60.jpg  \n",
            "  inflating: image_data/data/horses/horse-61.jpg  \n",
            "  inflating: image_data/data/horses/horse-62.jpg  \n",
            "  inflating: image_data/data/horses/horse-63.jpg  \n",
            "  inflating: image_data/data/horses/horse-64.jpg  \n",
            "  inflating: image_data/data/horses/horse-65.jpg  \n",
            "  inflating: image_data/data/horses/horse-66.jpg  \n",
            "  inflating: image_data/data/horses/horse-67.jpg  \n",
            "  inflating: image_data/data/horses/horse-68.jpg  \n",
            "  inflating: image_data/data/horses/horse-69.jpg  \n",
            "  inflating: image_data/data/horses/horse-7.jpg  \n",
            "  inflating: image_data/data/horses/horse-70.jpg  \n",
            "  inflating: image_data/data/horses/horse-71.jpg  \n",
            "  inflating: image_data/data/horses/horse-72.jpg  \n",
            "  inflating: image_data/data/horses/horse-73.jpg  \n",
            "  inflating: image_data/data/horses/horse-74.jpg  \n",
            "  inflating: image_data/data/horses/horse-75.jpg  \n",
            "  inflating: image_data/data/horses/horse-76.jpg  \n",
            "  inflating: image_data/data/horses/horse-77.jpg  \n",
            "  inflating: image_data/data/horses/horse-78.jpg  \n",
            "  inflating: image_data/data/horses/horse-79.jpg  \n",
            "  inflating: image_data/data/horses/horse-8.jpg  \n",
            "  inflating: image_data/data/horses/horse-80.jpg  \n",
            "  inflating: image_data/data/horses/horse-81.jpg  \n",
            "  inflating: image_data/data/horses/horse-82.jpg  \n",
            "  inflating: image_data/data/horses/horse-83.jpg  \n",
            "  inflating: image_data/data/horses/horse-84.jpg  \n",
            "  inflating: image_data/data/horses/horse-85.jpg  \n",
            "  inflating: image_data/data/horses/horse-86.jpg  \n",
            "  inflating: image_data/data/horses/horse-87.jpg  \n",
            "  inflating: image_data/data/horses/horse-88.jpg  \n",
            "  inflating: image_data/data/horses/horse-89.jpg  \n",
            "  inflating: image_data/data/horses/horse-9.jpg  \n",
            "  inflating: image_data/data/horses/horse-90.jpg  \n",
            "  inflating: image_data/data/horses/horse-91.jpg  \n",
            "  inflating: image_data/data/horses/horse-92.jpg  \n",
            "  inflating: image_data/data/horses/horse-93.jpg  \n",
            "  inflating: image_data/data/horses/horse-94.jpg  \n",
            "  inflating: image_data/data/horses/horse-95.jpg  \n",
            "  inflating: image_data/data/horses/horse-96.jpg  \n",
            "  inflating: image_data/data/horses/horse-97.jpg  \n",
            "  inflating: image_data/data/horses/horse-98.jpg  \n",
            "  inflating: image_data/data/horses/horse-99.jpg  \n",
            "   creating: image_data/data/Humans/\n",
            "  inflating: image_data/data/Humans/rider-1.jpg  \n",
            "  inflating: image_data/data/Humans/rider-10.jpg  \n",
            "  inflating: image_data/data/Humans/rider-100.jpg  \n",
            "  inflating: image_data/data/Humans/rider-101.jpg  \n",
            "  inflating: image_data/data/Humans/rider-102.jpg  \n",
            "  inflating: image_data/data/Humans/rider-103.jpg  \n",
            "  inflating: image_data/data/Humans/rider-104.jpg  \n",
            "  inflating: image_data/data/Humans/rider-105.jpg  \n",
            "  inflating: image_data/data/Humans/rider-106.jpg  \n",
            "  inflating: image_data/data/Humans/rider-107.jpg  \n",
            "  inflating: image_data/data/Humans/rider-108.jpg  \n",
            "  inflating: image_data/data/Humans/rider-109.jpg  \n",
            "  inflating: image_data/data/Humans/rider-11.jpg  \n",
            "  inflating: image_data/data/Humans/rider-110.jpg  \n",
            "  inflating: image_data/data/Humans/rider-111.jpg  \n",
            "  inflating: image_data/data/Humans/rider-112.jpg  \n",
            "  inflating: image_data/data/Humans/rider-113.jpg  \n",
            "  inflating: image_data/data/Humans/rider-114.jpg  \n",
            "  inflating: image_data/data/Humans/rider-115.jpg  \n",
            "  inflating: image_data/data/Humans/rider-116.jpg  \n",
            "  inflating: image_data/data/Humans/rider-117.jpg  \n",
            "  inflating: image_data/data/Humans/rider-118.jpg  \n",
            "  inflating: image_data/data/Humans/rider-119.jpg  \n",
            "  inflating: image_data/data/Humans/rider-12.jpg  \n",
            "  inflating: image_data/data/Humans/rider-120.jpg  \n",
            "  inflating: image_data/data/Humans/rider-121.jpg  \n",
            "  inflating: image_data/data/Humans/rider-122.jpg  \n",
            "  inflating: image_data/data/Humans/rider-123.jpg  \n",
            "  inflating: image_data/data/Humans/rider-124.jpg  \n",
            "  inflating: image_data/data/Humans/rider-125.jpg  \n",
            "  inflating: image_data/data/Humans/rider-126.jpg  \n",
            "  inflating: image_data/data/Humans/rider-127.jpg  \n",
            "  inflating: image_data/data/Humans/rider-128.jpg  \n",
            "  inflating: image_data/data/Humans/rider-129.jpg  \n",
            "  inflating: image_data/data/Humans/rider-13.jpg  \n",
            "  inflating: image_data/data/Humans/rider-130.jpg  \n",
            "  inflating: image_data/data/Humans/rider-131.jpg  \n",
            "  inflating: image_data/data/Humans/rider-132.jpg  \n",
            "  inflating: image_data/data/Humans/rider-133.jpg  \n",
            "  inflating: image_data/data/Humans/rider-134.jpg  \n",
            "  inflating: image_data/data/Humans/rider-135.jpg  \n",
            "  inflating: image_data/data/Humans/rider-136.jpg  \n",
            "  inflating: image_data/data/Humans/rider-137.jpg  \n",
            "  inflating: image_data/data/Humans/rider-138.jpg  \n",
            "  inflating: image_data/data/Humans/rider-139.jpg  \n",
            "  inflating: image_data/data/Humans/rider-14.jpg  \n",
            "  inflating: image_data/data/Humans/rider-140.jpg  \n",
            "  inflating: image_data/data/Humans/rider-141.jpg  \n",
            "  inflating: image_data/data/Humans/rider-142.jpg  \n",
            "  inflating: image_data/data/Humans/rider-143.jpg  \n",
            "  inflating: image_data/data/Humans/rider-144.jpg  \n",
            "  inflating: image_data/data/Humans/rider-145.jpg  \n",
            "  inflating: image_data/data/Humans/rider-146.jpg  \n",
            "  inflating: image_data/data/Humans/rider-147.jpg  \n",
            "  inflating: image_data/data/Humans/rider-148.jpg  \n",
            "  inflating: image_data/data/Humans/rider-149.jpg  \n",
            "  inflating: image_data/data/Humans/rider-15.jpg  \n",
            "  inflating: image_data/data/Humans/rider-150.jpg  \n",
            "  inflating: image_data/data/Humans/rider-151.jpg  \n",
            "  inflating: image_data/data/Humans/rider-152.jpg  \n",
            "  inflating: image_data/data/Humans/rider-153.jpg  \n",
            "  inflating: image_data/data/Humans/rider-154.jpg  \n",
            "  inflating: image_data/data/Humans/rider-155.jpg  \n",
            "  inflating: image_data/data/Humans/rider-156.jpg  \n",
            "  inflating: image_data/data/Humans/rider-157.jpg  \n",
            "  inflating: image_data/data/Humans/rider-158.jpg  \n",
            "  inflating: image_data/data/Humans/rider-159.jpg  \n",
            "  inflating: image_data/data/Humans/rider-16.jpg  \n",
            "  inflating: image_data/data/Humans/rider-160.jpg  \n",
            "  inflating: image_data/data/Humans/rider-161.jpg  \n",
            "  inflating: image_data/data/Humans/rider-162.jpg  \n",
            "  inflating: image_data/data/Humans/rider-163.jpg  \n",
            "  inflating: image_data/data/Humans/rider-164.jpg  \n",
            "  inflating: image_data/data/Humans/rider-165.jpg  \n",
            "  inflating: image_data/data/Humans/rider-166.jpg  \n",
            "  inflating: image_data/data/Humans/rider-167.jpg  \n",
            "  inflating: image_data/data/Humans/rider-168.jpg  \n",
            "  inflating: image_data/data/Humans/rider-169.jpg  \n",
            "  inflating: image_data/data/Humans/rider-17.jpg  \n",
            "  inflating: image_data/data/Humans/rider-170.jpg  \n",
            "  inflating: image_data/data/Humans/rider-171.jpg  \n",
            "  inflating: image_data/data/Humans/rider-172.jpg  \n",
            "  inflating: image_data/data/Humans/rider-173.jpg  \n",
            "  inflating: image_data/data/Humans/rider-174.jpg  \n",
            "  inflating: image_data/data/Humans/rider-175.jpg  \n",
            "  inflating: image_data/data/Humans/rider-176.jpg  \n",
            "  inflating: image_data/data/Humans/rider-177.jpg  \n",
            "  inflating: image_data/data/Humans/rider-178.jpg  \n",
            "  inflating: image_data/data/Humans/rider-179.jpg  \n",
            "  inflating: image_data/data/Humans/rider-18.jpg  \n",
            "  inflating: image_data/data/Humans/rider-180.jpg  \n",
            "  inflating: image_data/data/Humans/rider-181.jpg  \n",
            "  inflating: image_data/data/Humans/rider-182.jpg  \n",
            "  inflating: image_data/data/Humans/rider-183.jpg  \n",
            "  inflating: image_data/data/Humans/rider-184.jpg  \n",
            "  inflating: image_data/data/Humans/rider-185.jpg  \n",
            "  inflating: image_data/data/Humans/rider-186.jpg  \n",
            "  inflating: image_data/data/Humans/rider-187.jpg  \n",
            "  inflating: image_data/data/Humans/rider-188.jpg  \n",
            "  inflating: image_data/data/Humans/rider-189.jpg  \n",
            "  inflating: image_data/data/Humans/rider-19.jpg  \n",
            "  inflating: image_data/data/Humans/rider-190.jpg  \n",
            "  inflating: image_data/data/Humans/rider-191.jpg  \n",
            "  inflating: image_data/data/Humans/rider-192.jpg  \n",
            "  inflating: image_data/data/Humans/rider-193.jpg  \n",
            "  inflating: image_data/data/Humans/rider-194.jpg  \n",
            "  inflating: image_data/data/Humans/rider-195.jpg  \n",
            "  inflating: image_data/data/Humans/rider-196.jpg  \n",
            "  inflating: image_data/data/Humans/rider-197.jpg  \n",
            "  inflating: image_data/data/Humans/rider-198.jpg  \n",
            "  inflating: image_data/data/Humans/rider-199.jpg  \n",
            "  inflating: image_data/data/Humans/rider-2.jpg  \n",
            "  inflating: image_data/data/Humans/rider-20.jpg  \n",
            "  inflating: image_data/data/Humans/rider-200.jpg  \n",
            "  inflating: image_data/data/Humans/rider-201.jpg  \n",
            "  inflating: image_data/data/Humans/rider-202.jpg  \n",
            "  inflating: image_data/data/Humans/rider-21.jpg  \n",
            "  inflating: image_data/data/Humans/rider-22.jpg  \n",
            "  inflating: image_data/data/Humans/rider-23.jpg  \n",
            "  inflating: image_data/data/Humans/rider-24.jpg  \n",
            "  inflating: image_data/data/Humans/rider-25.jpg  \n",
            "  inflating: image_data/data/Humans/rider-26.jpg  \n",
            "  inflating: image_data/data/Humans/rider-27.jpg  \n",
            "  inflating: image_data/data/Humans/rider-28.jpg  \n",
            "  inflating: image_data/data/Humans/rider-29.jpg  \n",
            "  inflating: image_data/data/Humans/rider-3.jpg  \n",
            "  inflating: image_data/data/Humans/rider-30.jpg  \n",
            "  inflating: image_data/data/Humans/rider-31.jpg  \n",
            "  inflating: image_data/data/Humans/rider-32.jpg  \n",
            "  inflating: image_data/data/Humans/rider-33.jpg  \n",
            "  inflating: image_data/data/Humans/rider-34.jpg  \n",
            "  inflating: image_data/data/Humans/rider-35.jpg  \n",
            "  inflating: image_data/data/Humans/rider-36.jpg  \n",
            "  inflating: image_data/data/Humans/rider-37.jpg  \n",
            "  inflating: image_data/data/Humans/rider-38.jpg  \n",
            "  inflating: image_data/data/Humans/rider-39.jpg  \n",
            "  inflating: image_data/data/Humans/rider-4.jpg  \n",
            "  inflating: image_data/data/Humans/rider-40.jpg  \n",
            "  inflating: image_data/data/Humans/rider-41.jpg  \n",
            "  inflating: image_data/data/Humans/rider-42.jpg  \n",
            "  inflating: image_data/data/Humans/rider-43.jpg  \n",
            "  inflating: image_data/data/Humans/rider-44.jpg  \n",
            "  inflating: image_data/data/Humans/rider-45.jpg  \n",
            "  inflating: image_data/data/Humans/rider-46.jpg  \n",
            "  inflating: image_data/data/Humans/rider-47.jpg  \n",
            "  inflating: image_data/data/Humans/rider-48.jpg  \n",
            "  inflating: image_data/data/Humans/rider-49.jpg  \n",
            "  inflating: image_data/data/Humans/rider-5.jpg  \n",
            "  inflating: image_data/data/Humans/rider-50.jpg  \n",
            "  inflating: image_data/data/Humans/rider-51.jpg  \n",
            "  inflating: image_data/data/Humans/rider-52.jpg  \n",
            "  inflating: image_data/data/Humans/rider-53.jpg  \n",
            "  inflating: image_data/data/Humans/rider-54.jpg  \n",
            "  inflating: image_data/data/Humans/rider-55.jpg  \n",
            "  inflating: image_data/data/Humans/rider-56.jpg  \n",
            "  inflating: image_data/data/Humans/rider-57.jpg  \n",
            "  inflating: image_data/data/Humans/rider-58.jpg  \n",
            "  inflating: image_data/data/Humans/rider-59.jpg  \n",
            "  inflating: image_data/data/Humans/rider-6.jpg  \n",
            "  inflating: image_data/data/Humans/rider-60.jpg  \n",
            "  inflating: image_data/data/Humans/rider-61.jpg  \n",
            "  inflating: image_data/data/Humans/rider-62.jpg  \n",
            "  inflating: image_data/data/Humans/rider-63.jpg  \n",
            "  inflating: image_data/data/Humans/rider-64.jpg  \n",
            "  inflating: image_data/data/Humans/rider-65.jpg  \n",
            "  inflating: image_data/data/Humans/rider-66.jpg  \n",
            "  inflating: image_data/data/Humans/rider-67.jpg  \n",
            "  inflating: image_data/data/Humans/rider-68.jpg  \n",
            "  inflating: image_data/data/Humans/rider-69.jpg  \n",
            "  inflating: image_data/data/Humans/rider-7.jpg  \n",
            "  inflating: image_data/data/Humans/rider-70.jpg  \n",
            "  inflating: image_data/data/Humans/rider-71.jpg  \n",
            "  inflating: image_data/data/Humans/rider-72.jpg  \n",
            "  inflating: image_data/data/Humans/rider-73.jpg  \n",
            "  inflating: image_data/data/Humans/rider-74.jpg  \n",
            "  inflating: image_data/data/Humans/rider-75.jpg  \n",
            "  inflating: image_data/data/Humans/rider-76.jpg  \n",
            "  inflating: image_data/data/Humans/rider-77.jpg  \n",
            "  inflating: image_data/data/Humans/rider-78.jpg  \n",
            "  inflating: image_data/data/Humans/rider-79.jpg  \n",
            "  inflating: image_data/data/Humans/rider-8.jpg  \n",
            "  inflating: image_data/data/Humans/rider-80.jpg  \n",
            "  inflating: image_data/data/Humans/rider-81.jpg  \n",
            "  inflating: image_data/data/Humans/rider-82.jpg  \n",
            "  inflating: image_data/data/Humans/rider-83.jpg  \n",
            "  inflating: image_data/data/Humans/rider-84.jpg  \n",
            "  inflating: image_data/data/Humans/rider-85.jpg  \n",
            "  inflating: image_data/data/Humans/rider-86.jpg  \n",
            "  inflating: image_data/data/Humans/rider-87.jpg  \n",
            "  inflating: image_data/data/Humans/rider-88.jpg  \n",
            "  inflating: image_data/data/Humans/rider-89.jpg  \n",
            "  inflating: image_data/data/Humans/rider-9.jpg  \n",
            "  inflating: image_data/data/Humans/rider-90.jpg  \n",
            "  inflating: image_data/data/Humans/rider-91.jpg  \n",
            "  inflating: image_data/data/Humans/rider-92.jpg  \n",
            "  inflating: image_data/data/Humans/rider-93.jpg  \n",
            "  inflating: image_data/data/Humans/rider-94.jpg  \n",
            "  inflating: image_data/data/Humans/rider-95.jpg  \n",
            "  inflating: image_data/data/Humans/rider-96.jpg  \n",
            "  inflating: image_data/data/Humans/rider-97.jpg  \n",
            "  inflating: image_data/data/Humans/rider-98.jpg  \n",
            "  inflating: image_data/data/Humans/rider-99.jpg  \n",
            "  inflating: image_data/dhoni125.png  \n",
            "  inflating: image_data/dhoni126.jpg  \n",
            "  inflating: image_data/dhoni-kohli.jpg  \n",
            "  inflating: image_data/dhonikohli1.jpg  \n",
            "  inflating: image_data/dhonikohli2.jpg  \n",
            "  inflating: image_data/dhonikohli3.jpg  \n",
            "  inflating: image_data/dkk.jpg      \n",
            "  inflating: image_data/haarcascade_frontalface_alt.xml  \n",
            "  inflating: image_data/haarcascadeeye.xml  \n",
            "  inflating: image_data/happy1.jpg   \n",
            "  inflating: image_data/happy2.jpg   \n",
            "  inflating: image_data/happy3.jpg   \n",
            " extracting: image_data/images.png   \n",
            "  inflating: image_data/np.jpg       \n",
            "  inflating: image_data/np2.jpg      \n",
            "  inflating: image_data/np3.jpg      \n",
            "  inflating: image_data/people.jpg   \n",
            "  inflating: image_data/testimg22.png  \n"
          ],
          "name": "stdout"
        }
      ]
    },
    {
      "cell_type": "code",
      "metadata": {
        "id": "O5wiw1QpfFc4",
        "colab_type": "code",
        "colab": {}
      },
      "source": [
        "import numpy as np\n",
        "import matplotlib.pyplot as plt\n",
        "from tensorflow.keras.preprocessing import image as im\n",
        "from tensorflow.keras.utils import to_categorical,plot_model\n",
        "from tensorflow.keras import models,layers\n",
        "import os"
      ],
      "execution_count": 6,
      "outputs": []
    },
    {
      "cell_type": "markdown",
      "metadata": {
        "id": "3fCHmnZbfbc-",
        "colab_type": "text"
      },
      "source": [
        "# Dataset preparation"
      ]
    },
    {
      "cell_type": "code",
      "metadata": {
        "id": "vRpv4Vv7fWUM",
        "colab_type": "code",
        "colab": {
          "base_uri": "https://localhost:8080/",
          "height": 35
        },
        "outputId": "d6707405-2af6-401b-9ba4-cbc9d2f83e43"
      },
      "source": [
        "main_folder = 'image_data/data'\n",
        "names = os.listdir(main_folder)\n",
        "names"
      ],
      "execution_count": 8,
      "outputs": [
        {
          "output_type": "execute_result",
          "data": {
            "text/plain": [
              "['horses', 'Humans', 'dogs']"
            ]
          },
          "metadata": {
            "tags": []
          },
          "execution_count": 8
        }
      ]
    },
    {
      "cell_type": "code",
      "metadata": {
        "id": "hR2ea7B-fj5l",
        "colab_type": "code",
        "colab": {}
      },
      "source": [
        "x = [] # to store images\n",
        "y = [] # to store labels\n",
        "\n",
        "for folder in names:\n",
        "  file_names = os.listdir(main_folder+\"/\"+folder)\n",
        "  for img_name in file_names:\n",
        "    path = main_folder+\"/\"+folder+\"/\"+img_name\n",
        "    img = im.load_img(path,target_size=(250,250))\n",
        "    img = im.img_to_array(img)\n",
        "    x.append(img)\n",
        "    y.append(names.index(folder))\n",
        "    "
      ],
      "execution_count": 10,
      "outputs": []
    },
    {
      "cell_type": "code",
      "metadata": {
        "id": "W0Fa4Uqugj9_",
        "colab_type": "code",
        "colab": {}
      },
      "source": [
        "x = np.array(x)\n",
        "y = np.array(y)"
      ],
      "execution_count": 11,
      "outputs": []
    },
    {
      "cell_type": "code",
      "metadata": {
        "id": "SE7aWfLPgtS6",
        "colab_type": "code",
        "colab": {
          "base_uri": "https://localhost:8080/",
          "height": 52
        },
        "outputId": "1ec782ec-51b1-48c8-f2e2-5e794b8c786a"
      },
      "source": [
        "y = to_categorical(y)\n",
        "print(x.shape)\n",
        "print(y.shape)"
      ],
      "execution_count": 13,
      "outputs": [
        {
          "output_type": "stream",
          "text": [
            "(606, 250, 250, 3)\n",
            "(606, 3)\n"
          ],
          "name": "stdout"
        }
      ]
    },
    {
      "cell_type": "markdown",
      "metadata": {
        "id": "HH1ZelUph3fh",
        "colab_type": "text"
      },
      "source": [
        "# Designing the CNN - Convolutional Neural Networks"
      ]
    },
    {
      "cell_type": "code",
      "metadata": {
        "id": "S_E5Dqxlh21d",
        "colab_type": "code",
        "colab": {}
      },
      "source": [
        "layer1 = layers.Input(shape=(250,250,3))\n",
        "\n",
        "# feature detection segment\n",
        "# add the convolutional layer\n",
        "layer2 = layers.Conv2D(filters=8,kernel_size=(3,3),activation='relu')(layer1)\n",
        "# add the maxpooling layer\n",
        "layer3 = layers.MaxPooling2D(pool_size=(2,2))(layer2)\n",
        "# add the convolutional layer\n",
        "layer4 = layers.Conv2D(filters=16,kernel_size=(3,3),activation='relu')(layer3)\n",
        "layer4 = layers.Conv2D(filters=32,kernel_size=(3,3),activation='relu')(layer4)\n",
        "# add the maxpooling layer\n",
        "layer5 = layers.MaxPooling2D(pool_size=(2,2))(layer4)\n",
        "layerk = layers.Dropout(0.2)(layer5)\n",
        "# add a flatten layer - to convert the matrix to array\n",
        "layer6 = layers.Flatten()(layerk)\n",
        "\n",
        "#classification - add fully connected layer - weighted sum + activation\n",
        "#adding hidden layer\n",
        "layer7 = layers.Dense(200,activation='relu')(layer6)\n",
        "#adding the output layer\n",
        "layer8 = layers.Dense(3,activation='softmax')(layer7)\n",
        "\n",
        "model = models.Model(inputs=layer1,outputs=layer8)\n",
        "\n"
      ],
      "execution_count": 31,
      "outputs": []
    },
    {
      "cell_type": "code",
      "metadata": {
        "id": "mfRJ_K-cgtrp",
        "colab_type": "code",
        "colab": {
          "base_uri": "https://localhost:8080/",
          "height": 953
        },
        "outputId": "6955794b-90b9-49d1-f31a-8e4b31399626"
      },
      "source": [
        "plot_model(model)"
      ],
      "execution_count": 32,
      "outputs": [
        {
          "output_type": "execute_result",
          "data": {
            "image/png": "[encoded data removed]",
            "text/plain": [
              "<IPython.core.display.Image object>"
            ]
          },
          "metadata": {
            "tags": []
          },
          "execution_count": 32
        }
      ]
    },
    {
      "cell_type": "markdown",
      "metadata": {
        "id": "9WBhsYTUkEKr",
        "colab_type": "text"
      },
      "source": [
        "# Compile and Train the model"
      ]
    },
    {
      "cell_type": "code",
      "metadata": {
        "id": "cHjGZpt7j7wB",
        "colab_type": "code",
        "colab": {}
      },
      "source": [
        "model.compile(loss='categorical_crossentropy',optimizer='adam',\n",
        "              metrics=['accuracy'])"
      ],
      "execution_count": 33,
      "outputs": []
    },
    {
      "cell_type": "code",
      "metadata": {
        "id": "1dKCu07GkV-A",
        "colab_type": "code",
        "colab": {}
      },
      "source": [
        "from sklearn.model_selection import train_test_split\n",
        "xtrain,xtest,ytrain,ytest = train_test_split(x,y,test_size=0.2,random_state=5)"
      ],
      "execution_count": 34,
      "outputs": []
    },
    {
      "cell_type": "code",
      "metadata": {
        "id": "WyaxbOdYkiBt",
        "colab_type": "code",
        "colab": {
          "base_uri": "https://localhost:8080/",
          "height": 759
        },
        "outputId": "4491155d-6ba8-4144-f4c0-d50a288d3a9c"
      },
      "source": [
        "#train the model\n",
        "model.fit(xtrain,ytrain,epochs=20,batch_size=32,validation_data=(xtest,ytest))"
      ],
      "execution_count": 35,
      "outputs": [
        {
          "output_type": "stream",
          "text": [
            "Epoch 1/20\n",
            "16/16 [==============================] - 2s 94ms/step - loss: 763.8771 - accuracy: 0.3926 - val_loss: 109.7448 - val_accuracy: 0.3934\n",
            "Epoch 2/20\n",
            "16/16 [==============================] - 1s 77ms/step - loss: 14.6897 - accuracy: 0.4050 - val_loss: 1.0984 - val_accuracy: 0.3525\n",
            "Epoch 3/20\n",
            "16/16 [==============================] - 1s 76ms/step - loss: 1.9989 - accuracy: 0.3347 - val_loss: 1.0984 - val_accuracy: 0.3525\n",
            "Epoch 4/20\n",
            "16/16 [==============================] - 1s 75ms/step - loss: 1.0942 - accuracy: 0.3326 - val_loss: 1.0984 - val_accuracy: 0.3525\n",
            "Epoch 5/20\n",
            "16/16 [==============================] - 1s 75ms/step - loss: 1.0942 - accuracy: 0.3326 - val_loss: 1.0985 - val_accuracy: 0.3525\n",
            "Epoch 6/20\n",
            "16/16 [==============================] - 1s 75ms/step - loss: 1.0942 - accuracy: 0.3326 - val_loss: 1.0985 - val_accuracy: 0.3525\n",
            "Epoch 7/20\n",
            "16/16 [==============================] - 1s 75ms/step - loss: 1.0941 - accuracy: 0.3326 - val_loss: 1.0985 - val_accuracy: 0.3525\n",
            "Epoch 8/20\n",
            "16/16 [==============================] - 1s 74ms/step - loss: 1.0941 - accuracy: 0.3326 - val_loss: 1.0985 - val_accuracy: 0.3525\n",
            "Epoch 9/20\n",
            "16/16 [==============================] - 1s 75ms/step - loss: 1.0941 - accuracy: 0.3326 - val_loss: 1.0986 - val_accuracy: 0.3525\n",
            "Epoch 10/20\n",
            "16/16 [==============================] - 1s 75ms/step - loss: 1.0941 - accuracy: 0.3326 - val_loss: 1.0986 - val_accuracy: 0.3525\n",
            "Epoch 11/20\n",
            "16/16 [==============================] - 1s 75ms/step - loss: 1.0941 - accuracy: 0.3326 - val_loss: 1.0986 - val_accuracy: 0.3525\n",
            "Epoch 12/20\n",
            "16/16 [==============================] - 1s 77ms/step - loss: 1.0941 - accuracy: 0.3326 - val_loss: 1.0986 - val_accuracy: 0.3525\n",
            "Epoch 13/20\n",
            "16/16 [==============================] - 1s 76ms/step - loss: 1.0941 - accuracy: 0.3326 - val_loss: 1.0986 - val_accuracy: 0.3525\n",
            "Epoch 14/20\n",
            "16/16 [==============================] - 1s 76ms/step - loss: 1.0941 - accuracy: 0.3326 - val_loss: 1.0986 - val_accuracy: 0.3525\n",
            "Epoch 15/20\n",
            "16/16 [==============================] - 1s 75ms/step - loss: 1.0941 - accuracy: 0.3326 - val_loss: 1.0986 - val_accuracy: 0.3525\n",
            "Epoch 16/20\n",
            "16/16 [==============================] - 1s 76ms/step - loss: 1.0941 - accuracy: 0.3326 - val_loss: 1.0986 - val_accuracy: 0.3525\n",
            "Epoch 17/20\n",
            "16/16 [==============================] - 1s 75ms/step - loss: 1.0942 - accuracy: 0.3326 - val_loss: 1.0986 - val_accuracy: 0.3525\n",
            "Epoch 18/20\n",
            "16/16 [==============================] - 1s 76ms/step - loss: 1.0941 - accuracy: 0.3326 - val_loss: 1.0985 - val_accuracy: 0.3525\n",
            "Epoch 19/20\n",
            "16/16 [==============================] - 1s 76ms/step - loss: 1.0942 - accuracy: 0.3326 - val_loss: 1.0986 - val_accuracy: 0.3525\n",
            "Epoch 20/20\n",
            "16/16 [==============================] - 1s 76ms/step - loss: 1.0941 - accuracy: 0.3017 - val_loss: 1.0986 - val_accuracy: 0.3115\n"
          ],
          "name": "stdout"
        },
        {
          "output_type": "execute_result",
          "data": {
            "text/plain": [
              "<tensorflow.python.keras.callbacks.History at 0x7fd74cea7978>"
            ]
          },
          "metadata": {
            "tags": []
          },
          "execution_count": 35
        }
      ]
    },
    {
      "cell_type": "code",
      "metadata": {
        "id": "MPZ7zED_kq2C",
        "colab_type": "code",
        "colab": {
          "base_uri": "https://localhost:8080/",
          "height": 439
        },
        "outputId": "f9782afb-3ddc-4b88-c247-de1fc5881f45"
      },
      "source": [
        "model.summary()"
      ],
      "execution_count": 19,
      "outputs": [
        {
          "output_type": "stream",
          "text": [
            "Model: \"model\"\n",
            "_________________________________________________________________\n",
            "Layer (type)                 Output Shape              Param #   \n",
            "=================================================================\n",
            "input_1 (InputLayer)         [(None, 250, 250, 3)]     0         \n",
            "_________________________________________________________________\n",
            "conv2d (Conv2D)              (None, 248, 248, 8)       224       \n",
            "_________________________________________________________________\n",
            "max_pooling2d (MaxPooling2D) (None, 124, 124, 8)       0         \n",
            "_________________________________________________________________\n",
            "conv2d_1 (Conv2D)            (None, 122, 122, 16)      1168      \n",
            "_________________________________________________________________\n",
            "max_pooling2d_1 (MaxPooling2 (None, 61, 61, 16)        0         \n",
            "_________________________________________________________________\n",
            "flatten (Flatten)            (None, 59536)             0         \n",
            "_________________________________________________________________\n",
            "dense (Dense)                (None, 200)               11907400  \n",
            "_________________________________________________________________\n",
            "dense_1 (Dense)              (None, 3)                 603       \n",
            "=================================================================\n",
            "Total params: 11,909,395\n",
            "Trainable params: 11,909,395\n",
            "Non-trainable params: 0\n",
            "_________________________________________________________________\n"
          ],
          "name": "stdout"
        }
      ]
    },
    {
      "cell_type": "code",
      "metadata": {
        "id": "wZ-iszuJk5rg",
        "colab_type": "code",
        "colab": {
          "base_uri": "https://localhost:8080/",
          "height": 123
        },
        "outputId": "8fe37c59-6ace-48ed-8453-437ad65cea94"
      },
      "source": [
        "ypred = model.predict(xtest)\n",
        "ypred2 = np.array([np.argmax(k) for k in ypred])\n",
        "ypred2"
      ],
      "execution_count": 21,
      "outputs": [
        {
          "output_type": "execute_result",
          "data": {
            "text/plain": [
              "array([2, 2, 2, 2, 1, 2, 0, 2, 1, 0, 1, 2, 1, 0, 0, 2, 1, 2, 2, 0, 0, 1,\n",
              "       2, 1, 0, 1, 1, 2, 2, 0, 0, 2, 2, 2, 0, 0, 1, 0, 2, 1, 1, 1, 1, 1,\n",
              "       2, 1, 1, 0, 1, 1, 1, 0, 2, 1, 0, 2, 1, 1, 1, 1, 0, 1, 2, 1, 0, 1,\n",
              "       1, 0, 0, 1, 0, 2, 0, 1, 0, 1, 1, 1, 1, 2, 0, 0, 2, 2, 1, 2, 1, 2,\n",
              "       2, 1, 2, 0, 0, 0, 1, 2, 0, 1, 1, 0, 1, 1, 0, 1, 0, 0, 2, 2, 1, 2,\n",
              "       1, 1, 2, 0, 0, 0, 0, 1, 1, 2, 0, 1])"
            ]
          },
          "metadata": {
            "tags": []
          },
          "execution_count": 21
        }
      ]
    },
    {
      "cell_type": "code",
      "metadata": {
        "id": "nsr_Fl_ZlbOy",
        "colab_type": "code",
        "colab": {}
      },
      "source": [
        "ytest2 = np.array([np.argmax(k) for k in ytest])"
      ],
      "execution_count": 23,
      "outputs": []
    },
    {
      "cell_type": "code",
      "metadata": {
        "id": "yDRh7o1UlHCK",
        "colab_type": "code",
        "colab": {}
      },
      "source": [
        "from sklearn import metrics\n",
        "cm = metrics.confusion_matrix(ytest2,ypred2)"
      ],
      "execution_count": 25,
      "outputs": []
    },
    {
      "cell_type": "code",
      "metadata": {
        "id": "lyGMIgpalZvb",
        "colab_type": "code",
        "colab": {
          "base_uri": "https://localhost:8080/",
          "height": 141
        },
        "outputId": "057d72d3-179b-4e5f-efb6-2f2a478d39bb"
      },
      "source": [
        "import pandas as pd\n",
        "pd.DataFrame(cm,index=names,columns=names)"
      ],
      "execution_count": 26,
      "outputs": [
        {
          "output_type": "execute_result",
          "data": {
            "text/html": [
              "<div>\n",
              "<style scoped>\n",
              "    .dataframe tbody tr th:only-of-type {\n",
              "        vertical-align: middle;\n",
              "    }\n",
              "\n",
              "    .dataframe tbody tr th {\n",
              "        vertical-align: top;\n",
              "    }\n",
              "\n",
              "    .dataframe thead th {\n",
              "        text-align: right;\n",
              "    }\n",
              "</style>\n",
              "<table border=\"1\" class=\"dataframe\">\n",
              "  <thead>\n",
              "    <tr style=\"text-align: right;\">\n",
              "      <th></th>\n",
              "      <th>horses</th>\n",
              "      <th>Humans</th>\n",
              "      <th>dogs</th>\n",
              "    </tr>\n",
              "  </thead>\n",
              "  <tbody>\n",
              "    <tr>\n",
              "      <th>horses</th>\n",
              "      <td>25</td>\n",
              "      <td>6</td>\n",
              "      <td>7</td>\n",
              "    </tr>\n",
              "    <tr>\n",
              "      <th>Humans</th>\n",
              "      <td>1</td>\n",
              "      <td>35</td>\n",
              "      <td>5</td>\n",
              "    </tr>\n",
              "    <tr>\n",
              "      <th>dogs</th>\n",
              "      <td>11</td>\n",
              "      <td>9</td>\n",
              "      <td>23</td>\n",
              "    </tr>\n",
              "  </tbody>\n",
              "</table>\n",
              "</div>"
            ],
            "text/plain": [
              "        horses  Humans  dogs\n",
              "horses      25       6     7\n",
              "Humans       1      35     5\n",
              "dogs        11       9    23"
            ]
          },
          "metadata": {
            "tags": []
          },
          "execution_count": 26
        }
      ]
    },
    {
      "cell_type": "code",
      "metadata": {
        "id": "Hxlex6YNlplv",
        "colab_type": "code",
        "colab": {
          "base_uri": "https://localhost:8080/",
          "height": 287
        },
        "outputId": "56e363b0-79e7-4730-a0d8-03b658cbc1d7"
      },
      "source": [
        "img = xtest[0]\n",
        "plt.imshow(img.astype('int32'))"
      ],
      "execution_count": 28,
      "outputs": [
        {
          "output_type": "execute_result",
          "data": {
            "text/plain": [
              "<matplotlib.image.AxesImage at 0x7fd74c6caf28>"
            ]
          },
          "metadata": {
            "tags": []
          },
          "execution_count": 28
        },
        {
          "output_type": "display_data",
          "data": {
            "image/png": "[encoded data removed]",
            "text/plain": [
              "<Figure size 432x288 with 1 Axes>"
            ]
          },
          "metadata": {
            "tags": [],
            "needs_background": "light"
          }
        }
      ]
    },
    {
      "cell_type": "code",
      "metadata": {
        "id": "bCK7XtbNl-1K",
        "colab_type": "code",
        "colab": {
          "base_uri": "https://localhost:8080/",
          "height": 35
        },
        "outputId": "65fc52c9-a4c9-4f46-e066-b24f25e097ab"
      },
      "source": [
        "model.predict(img.reshape(1,250,250,3))"
      ],
      "execution_count": 29,
      "outputs": [
        {
          "output_type": "execute_result",
          "data": {
            "text/plain": [
              "array([[3.8100471e-11, 1.6386563e-01, 8.3613443e-01]], dtype=float32)"
            ]
          },
          "metadata": {
            "tags": []
          },
          "execution_count": 29
        }
      ]
    },
    {
      "cell_type": "code",
      "metadata": {
        "id": "JNjR38uFmGfG",
        "colab_type": "code",
        "colab": {
          "base_uri": "https://localhost:8080/",
          "height": 35
        },
        "outputId": "e5a2e7b9-f253-4557-84c5-abdd3c0fbe97"
      },
      "source": [
        "names"
      ],
      "execution_count": 30,
      "outputs": [
        {
          "output_type": "execute_result",
          "data": {
            "text/plain": [
              "['horses', 'Humans', 'dogs']"
            ]
          },
          "metadata": {
            "tags": []
          },
          "execution_count": 30
        }
      ]
    },
    {
      "cell_type": "code",
      "metadata": {
        "id": "pWACf1JAmM3J",
        "colab_type": "code",
        "colab": {}
      },
      "source": [
        "model.save(\"model.h5\")"
      ],
      "execution_count": 36,
      "outputs": []
    },
    {
      "cell_type": "code",
      "metadata": {
        "id": "0TqpU6PxoGJf",
        "colab_type": "code",
        "colab": {}
      },
      "source": [
        ""
      ],
      "execution_count": null,
      "outputs": []
    }
  ]
}